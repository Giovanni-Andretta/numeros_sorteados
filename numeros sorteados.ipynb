{
 "cells": [
  {
   "cell_type": "code",
   "execution_count": 21,
   "id": "e7d7010a",
   "metadata": {},
   "outputs": [
    {
     "name": "stdout",
     "output_type": "stream",
     "text": [
      "==================================================\n",
      "\n",
      "Digite o numero inicial: 1\n",
      "\n",
      "Digite o numero final: 10\n",
      "\n",
      "Digite a quantidade: 3\n",
      "\n",
      "\n",
      "Par: [10]\n",
      "\n",
      "Impar: [7, 9]\n",
      "\n",
      "==================================================\n"
     ]
    }
   ],
   "source": [
    "#Nome: Giovanni Andretta Carbonero\n",
    "\n",
    "#Listas\n",
    "\n",
    "PAR = []\n",
    "IMPAR = []\n",
    "\n",
    "#Função que faz o sorteio baseado nos numeros que foram recebidos pelas variaveis\n",
    "def sortea(num1, num2, quant):\n",
    "\n",
    "    import random as rd\n",
    "\n",
    "    for i in range(quant):\n",
    "        sorteado = rd.randint(num1, num2)\n",
    "\n",
    "        if sorteado%2 == 0:\n",
    "            PAR.append(sorteado)\n",
    "        else:\n",
    "            IMPAR.append(sorteado)\n",
    "\n",
    "    print(\"\\n\\nPar: \" + str(PAR))\n",
    "    print(\"\\nImpar: \" + str(IMPAR))\n",
    "    \n",
    "    print()\n",
    "    print(\"=\"*50)\n",
    "\n",
    "#Função principal\n",
    "def main():\n",
    "    \n",
    "    print(\"=\"*50)\n",
    "    \n",
    "    #Numero inicial, exemplo, começa com 1\n",
    "    num1 = int(input(\"\\nDigite o numero inicial: \"))\n",
    "    \n",
    "    #Numero final, exemplo, termina com 10\n",
    "    num2 = int(input(\"\\nDigite o numero final: \"))\n",
    "    \n",
    "    #Quantidade de numeros que vao ser sorteados, exemplo, quantidade de 3\n",
    "    quant = int(input(\"\\nDigite a quantidade: \"))\n",
    "    \n",
    "    #Exemplo, de 1 a 10 vai ser sorteado 3 numeros\n",
    "    \n",
    "    sortea(num1, num2, quant)\n",
    "    \n",
    "main()"
   ]
  },
  {
   "cell_type": "code",
   "execution_count": null,
   "id": "73ba2785",
   "metadata": {},
   "outputs": [],
   "source": []
  },
  {
   "cell_type": "code",
   "execution_count": null,
   "id": "306ed4ae",
   "metadata": {},
   "outputs": [],
   "source": []
  }
 ],
 "metadata": {
  "kernelspec": {
   "display_name": "Python 3",
   "language": "python",
   "name": "python3"
  },
  "language_info": {
   "codemirror_mode": {
    "name": "ipython",
    "version": 3
   },
   "file_extension": ".py",
   "mimetype": "text/x-python",
   "name": "python",
   "nbconvert_exporter": "python",
   "pygments_lexer": "ipython3",
   "version": "3.8.8"
  }
 },
 "nbformat": 4,
 "nbformat_minor": 5
}
